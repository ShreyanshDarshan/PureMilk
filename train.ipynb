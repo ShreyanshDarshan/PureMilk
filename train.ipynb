{
 "cells": [
  {
   "cell_type": "markdown",
   "id": "c3a82484",
   "metadata": {},
   "source": [
    "# Milk Adulteration Detection\n",
    "\n",
    "### 1. Create the model and dataset"
   ]
  },
  {
   "cell_type": "code",
   "execution_count": 3,
   "id": "d41f2fbe-efc1-4794-93e0-c56e388f9a2a",
   "metadata": {},
   "outputs": [
    {
     "ename": "ValueError",
     "evalue": "CSV file not found",
     "output_type": "error",
     "traceback": [
      "\u001b[0;31m---------------------------------------------------------------------------\u001b[0m",
      "\u001b[0;31mValueError\u001b[0m                                Traceback (most recent call last)",
      "Cell \u001b[0;32mIn[3], line 9\u001b[0m\n\u001b[1;32m      7\u001b[0m parent_dir \u001b[38;5;241m=\u001b[39m os\u001b[38;5;241m.\u001b[39mpath\u001b[38;5;241m.\u001b[39mdirname(os\u001b[38;5;241m.\u001b[39mpath\u001b[38;5;241m.\u001b[39mabspath(\u001b[38;5;124m'\u001b[39m\u001b[38;5;124m'\u001b[39m))\n\u001b[1;32m      8\u001b[0m dataset_path \u001b[38;5;241m=\u001b[39m os\u001b[38;5;241m.\u001b[39mpath\u001b[38;5;241m.\u001b[39mjoin(parent_dir, \u001b[38;5;124m'\u001b[39m\u001b[38;5;124mdrive\u001b[39m\u001b[38;5;124m'\u001b[39m, \u001b[38;5;124m'\u001b[39m\u001b[38;5;124mMy Drive\u001b[39m\u001b[38;5;124m'\u001b[39m, \u001b[38;5;124m'\u001b[39m\u001b[38;5;124mdata\u001b[39m\u001b[38;5;124m'\u001b[39m, \u001b[38;5;124m'\u001b[39m\u001b[38;5;124mNaOH\u001b[39m\u001b[38;5;124m'\u001b[39m) \n\u001b[0;32m----> 9\u001b[0m datatset \u001b[38;5;241m=\u001b[39m \u001b[43mAdulterantDataset\u001b[49m\u001b[43m(\u001b[49m\u001b[43mdataset_path\u001b[49m\u001b[43m)\u001b[49m\n",
      "File \u001b[0;32m~/MTP/python/aditya_sir/PureMilk/PureMilk/dataset.py:15\u001b[0m, in \u001b[0;36mAdulterantDataset.__init__\u001b[0;34m(self, dataset_path, tarnsform)\u001b[0m\n\u001b[1;32m     13\u001b[0m csv_file_path \u001b[39m=\u001b[39m os\u001b[39m.\u001b[39mpath\u001b[39m.\u001b[39mjoin(\u001b[39mself\u001b[39m\u001b[39m.\u001b[39mroot_dir, \u001b[39m\"\u001b[39m\u001b[39mconcentration_data.csv\u001b[39m\u001b[39m\"\u001b[39m)\n\u001b[1;32m     14\u001b[0m \u001b[39mif\u001b[39;00m \u001b[39mnot\u001b[39;00m os\u001b[39m.\u001b[39mpath\u001b[39m.\u001b[39mexists(csv_file_path):\n\u001b[0;32m---> 15\u001b[0m     \u001b[39mraise\u001b[39;00m \u001b[39mValueError\u001b[39;00m(\u001b[39m\"\u001b[39m\u001b[39mCSV file not found\u001b[39m\u001b[39m\"\u001b[39m)\n\u001b[1;32m     16\u001b[0m \u001b[39mself\u001b[39m\u001b[39m.\u001b[39mconcentrations \u001b[39m=\u001b[39m pd\u001b[39m.\u001b[39mread_csv(csv_file_path)\n\u001b[1;32m     18\u001b[0m \u001b[39mself\u001b[39m\u001b[39m.\u001b[39mtransform \u001b[39m=\u001b[39m tarnsform\n",
      "\u001b[0;31mValueError\u001b[0m: CSV file not found"
     ]
    }
   ],
   "source": [
    "from PureMilk.model import AdulterantDetector\n",
    "from PureMilk.dataset import AdulterantDataset\n",
    "import os\n",
    "\n",
    "model = AdulterantDetector([100, 100, 1])\n",
    "\n",
    "parent_dir = os.path.dirname(os.path.abspath(''))\n",
    "dataset_path = os.path.join(parent_dir, 'drive', 'My Drive', 'data', 'NaOH') \n",
    "datatset = AdulterantDataset(dataset_path)"
   ]
  },
  {
   "cell_type": "code",
   "execution_count": null,
   "id": "8371d009",
   "metadata": {},
   "outputs": [],
   "source": []
  }
 ],
 "metadata": {
  "kernelspec": {
   "display_name": "Python 3.9.7 ('torch')",
   "language": "python",
   "name": "python3"
  },
  "language_info": {
   "codemirror_mode": {
    "name": "ipython",
    "version": 3
   },
   "file_extension": ".py",
   "mimetype": "text/x-python",
   "name": "python",
   "nbconvert_exporter": "python",
   "pygments_lexer": "ipython3",
   "version": "3.9.7"
  },
  "vscode": {
   "interpreter": {
    "hash": "77c28c5829e254003baa096fcf177b6641bb34fff288537dd4e9cef7cbde56d8"
   }
  }
 },
 "nbformat": 4,
 "nbformat_minor": 5
}
